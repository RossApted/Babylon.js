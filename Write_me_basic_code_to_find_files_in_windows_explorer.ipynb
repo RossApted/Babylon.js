{
  "cells": [
    {
      "cell_type": "markdown",
      "metadata": {
        "id": "view-in-github",
        "colab_type": "text"
      },
      "source": [
        "<a href=\"https://colab.research.google.com/github/RossApted/Babylon.js/blob/master/Write_me_basic_code_to_find_files_in_windows_explorer.ipynb\" target=\"_parent\"><img src=\"https://colab.research.google.com/assets/colab-badge.svg\" alt=\"Open In Colab\"/></a>"
      ]
    },
    {
      "cell_type": "markdown",
      "source": [
        "Sure, here is a basic Python code to find files in Windows Explorer:"
      ],
      "metadata": {
        "id": "Q_FaFxgiYPMW"
      }
    },
    {
      "cell_type": "code",
      "source": [
        "import os\n",
        "\n",
        "# Get the current working directory\n",
        "cwd = os.getcwd()\n",
        "\n",
        "# List all the files in the current working directory\n",
        "files = os.listdir(cwd)\n",
        "\n",
        "# Filter the files to only include those that end in \".txt\"\n",
        "txt_files = [file for file in files if file.endswith(\".txt\")]\n",
        "\n",
        "# Print the names of the txt files\n",
        "for file in txt_files:\n",
        "    print(file)"
      ],
      "outputs": [],
      "execution_count": null,
      "metadata": {
        "id": "TseSxOAuYPMZ"
      }
    },
    {
      "cell_type": "markdown",
      "source": [
        "This code will print the names of all the .txt files in the current working directory. You can modify this code to find files with other extensions or in other directories. For example, to find all the .pdf files in the C:\\Users\\YourUserName\\Documents directory, you would use the following code:"
      ],
      "metadata": {
        "id": "sEUpPGQhYPMa"
      }
    },
    {
      "cell_type": "code",
      "source": [
        "import os\n",
        "\n",
        "# Get the current working directory\n",
        "cwd = os.getcwd()\n",
        "\n",
        "# Change the directory to C:\\Users\\YourUserName\\Documents\n",
        "os.chdir(\"C:\\\\Users\\\\YourUserName\\\\Documents\")\n",
        "\n",
        "# List all the files in the current working directory\n",
        "files = os.listdir()\n",
        "\n",
        "# Filter the files to only include those that end in \".pdf\"\n",
        "pdf_files = [file for file in files if file.endswith(\".pdf\")]\n",
        "\n",
        "# Print the names of the pdf files\n",
        "for file in pdf_files:\n",
        "    print(file)"
      ],
      "outputs": [],
      "execution_count": null,
      "metadata": {
        "id": "H4Iqo0lTYPMa"
      }
    },
    {
      "cell_type": "markdown",
      "source": [
        "I hope this helps! Let me know if you have any other questions."
      ],
      "metadata": {
        "id": "m7HNu6ZBYPMa"
      }
    }
  ],
  "metadata": {
    "colab": {
      "provenance": [],
      "include_colab_link": true
    },
    "kernelspec": {
      "display_name": "Python 3",
      "name": "python3"
    }
  },
  "nbformat": 4,
  "nbformat_minor": 0
}